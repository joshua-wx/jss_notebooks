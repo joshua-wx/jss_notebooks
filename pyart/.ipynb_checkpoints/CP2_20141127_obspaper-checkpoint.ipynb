{
 "cells": [
  {
   "cell_type": "code",
   "execution_count": 1,
   "metadata": {
    "collapsed": true
   },
   "outputs": [],
   "source": [
    "%matplotlib inline\n",
    "\n",
    "from __future__ import print_function\n",
    "import matplotlib.pyplot as plt\n",
    "import pyart\n",
    "import numpy as np\n",
    "from scipy import ndimage, signal\n",
    "import time\n",
    "from matplotlib.ticker import Formatter"
   ]
  },
  {
   "cell_type": "code",
   "execution_count": 2,
   "metadata": {
    "collapsed": true
   },
   "outputs": [],
   "source": [
    "root_path = '/media/meso/DATA/phd/obs/radar/CP2/mdv/s_band/volumes/20141127/'\n",
    "tilt      = 6\n",
    "lat_lines = np.arange(-28,-26,-.1)\n",
    "lon_lines = np.arange(152, 154, .1)"
   ]
  },
  {
   "cell_type": "code",
   "execution_count": 3,
   "metadata": {
    "collapsed": false
   },
   "outputs": [
    {
     "ename": "NameError",
     "evalue": "name 'my_display' is not defined",
     "output_type": "error",
     "traceback": [
      "\u001b[1;31m---------------------------------------------------------------------------\u001b[0m",
      "\u001b[1;31mNameError\u001b[0m                                 Traceback (most recent call last)",
      "\u001b[1;32m<ipython-input-3-9843b557480c>\u001b[0m in \u001b[0;36m<module>\u001b[1;34m()\u001b[0m\n\u001b[0;32m      5\u001b[0m \u001b[0mf\u001b[0m \u001b[1;33m=\u001b[0m \u001b[0mplt\u001b[0m\u001b[1;33m.\u001b[0m\u001b[0mfigure\u001b[0m\u001b[1;33m(\u001b[0m\u001b[0mfigsize\u001b[0m\u001b[1;33m=\u001b[0m\u001b[1;33m[\u001b[0m\u001b[1;36m20\u001b[0m\u001b[1;33m,\u001b[0m\u001b[1;36m6\u001b[0m\u001b[1;33m]\u001b[0m\u001b[1;33m)\u001b[0m\u001b[1;33m\u001b[0m\u001b[0m\n\u001b[0;32m      6\u001b[0m \u001b[0mplt\u001b[0m\u001b[1;33m.\u001b[0m\u001b[0msubplot\u001b[0m\u001b[1;33m(\u001b[0m\u001b[1;36m1\u001b[0m\u001b[1;33m,\u001b[0m\u001b[1;36m2\u001b[0m\u001b[1;33m,\u001b[0m\u001b[1;36m1\u001b[0m\u001b[1;33m)\u001b[0m\u001b[1;33m\u001b[0m\u001b[0m\n\u001b[1;32m----> 7\u001b[1;33m my_display.plot_ppi_map('DBZH', tilt, vmin=-6, vmax=64.0, \n\u001b[0m\u001b[0;32m      8\u001b[0m                         \u001b[0mlat_lines\u001b[0m \u001b[1;33m=\u001b[0m \u001b[0mlat_lines\u001b[0m\u001b[1;33m,\u001b[0m \u001b[0mlon_lines\u001b[0m \u001b[1;33m=\u001b[0m \u001b[0mlon_lines\u001b[0m\u001b[1;33m,\u001b[0m\u001b[1;33m\u001b[0m\u001b[0m\n\u001b[0;32m      9\u001b[0m                         \u001b[0mmax_lat\u001b[0m \u001b[1;33m=\u001b[0m \u001b[1;33m-\u001b[0m\u001b[1;36m27.75\u001b[0m\u001b[1;33m,\u001b[0m \u001b[0mmin_lat\u001b[0m \u001b[1;33m=\u001b[0m\u001b[1;33m-\u001b[0m\u001b[1;36m27.25\u001b[0m\u001b[1;33m,\u001b[0m \u001b[0mmin_lon\u001b[0m \u001b[1;33m=\u001b[0m \u001b[1;36m152.75\u001b[0m\u001b[1;33m,\u001b[0m \u001b[0mmax_lon\u001b[0m \u001b[1;33m=\u001b[0m \u001b[1;36m153.25\u001b[0m\u001b[1;33m,\u001b[0m\u001b[1;33m\u001b[0m\u001b[0m\n",
      "\u001b[1;31mNameError\u001b[0m: name 'my_display' is not defined"
     ]
    },
    {
     "name": "stderr",
     "output_type": "stream",
     "text": [
      "/home/meso/anaconda2/lib/python2.7/site-packages/IPython/core/formatters.py:92: DeprecationWarning: DisplayFormatter._ipython_display_formatter_default is deprecated: use @default decorator instead.\n",
      "  def _ipython_display_formatter_default(self):\n",
      "/home/meso/anaconda2/lib/python2.7/site-packages/IPython/core/formatters.py:669: DeprecationWarning: PlainTextFormatter._singleton_printers_default is deprecated: use @default decorator instead.\n",
      "  def _singleton_printers_default(self):\n"
     ]
    },
    {
     "data": {
      "image/png": "[encoded data removed]",
      "text/plain": [
       "<matplotlib.figure.Figure at 0x7fc708804b90>"
      ]
     },
     "metadata": {},
     "output_type": "display_data"
    }
   ],
   "source": [
    "fn      = root_path + '062902.mdv'\n",
    "radar   = pyart.io.read_mdv(fn)\n",
    "display = pyart.graph.RadarMapDisplay(radar)\n",
    "\n",
    "f = plt.figure(figsize=[20,6])\n",
    "plt.subplot(1,2,1)\n",
    "display.plot_ppi_map('DBZH', tilt, vmin=-6, vmax=64.0, \n",
    "                        lat_lines = lat_lines, lon_lines = lon_lines,\n",
    "                        max_lat = -27.75, min_lat =-27.25, min_lon = 152.75, max_lon = 153.25,\n",
    "                       cmap = pyart.graph.cm.NWSRef)\n",
    "display.plot_point( 153.033, -27.466,\n",
    "               label_text = 'Brisbane', \n",
    "               label_offset=[.005,.005], symbol = 'bo' )\n",
    "\n",
    "ax = plt.gca()\n",
    "plt.subplot(1,2,2)\n",
    "display.plot_ppi_map('VRAD', tilt, vmin=-26., vmax=26., \n",
    "                        lat_lines = lat_lines, lon_lines = lon_lines,\n",
    "                        max_lat = -27.75, min_lat =-27.25, min_lon = 152.75, max_lon = 153.25,\n",
    "                       cmap = pyart.graph.cm.NWSVel)\n",
    "display.plot_point( 153.033, -27.466, \n",
    "               label_text = 'Brisbane', \n",
    "               label_offset=[.005,.005], symbol = 'bo' )\n",
    "\n",
    "ax = plt.gca()\n"
   ]
  },
  {
   "cell_type": "code",
   "execution_count": null,
   "metadata": {
    "collapsed": true
   },
   "outputs": [],
   "source": []
  }
 ],
 "metadata": {
  "kernelspec": {
   "display_name": "Python 2",
   "language": "python",
   "name": "python2"
  },
  "language_info": {
   "codemirror_mode": {
    "name": "ipython",
    "version": 2
   },
   "file_extension": ".py",
   "mimetype": "text/x-python",
   "name": "python",
   "nbconvert_exporter": "python",
   "pygments_lexer": "ipython2",
   "version": "2.7.11"
  }
 },
 "nbformat": 4,
 "nbformat_minor": 0
}
