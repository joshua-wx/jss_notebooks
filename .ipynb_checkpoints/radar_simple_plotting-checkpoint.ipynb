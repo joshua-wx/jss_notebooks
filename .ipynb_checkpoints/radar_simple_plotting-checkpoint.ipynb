{
 "cells": [
  {
   "cell_type": "code",
   "execution_count": null,
   "metadata": {},
   "outputs": [],
   "source": [
    "#plot pretty radar images from local odimh5 images\n",
    "#work for Beth Ebert, Thunderstorm Asthma Study, Dec 2019"
   ]
  },
  {
   "cell_type": "code",
   "execution_count": 1,
   "metadata": {},
   "outputs": [
    {
     "name": "stdout",
     "output_type": "stream",
     "text": [
      "\n",
      "## You are using the Python ARM Radar Toolkit (Py-ART), an open source\n",
      "## library for working with weather radar data. Py-ART is partly\n",
      "## supported by the U.S. Department of Energy as part of the Atmospheric\n",
      "## Radiation Measurement (ARM) Climate Research Facility, an Office of\n",
      "## Science user facility.\n",
      "##\n",
      "## If you use this software to prepare a publication, please cite:\n",
      "##\n",
      "##     JJ Helmus and SM Collis, JORS 2016, doi: 10.5334/jors.119\n",
      "\n"
     ]
    }
   ],
   "source": [
    "import os\n",
    "import re\n",
    "import gzip\n",
    "import time\n",
    "from glob import glob\n",
    "from datetime import datetime, timedelta\n",
    "\n",
    "import pandas as pd\n",
    "import numpy as np\n",
    "import matplotlib\n",
    "from matplotlib import pyplot as plt\n",
    "\n",
    "import cartopy\n",
    "from cartopy import crs as ccrs # A toolkit for map projections\n",
    "\n",
    "import PIL\n",
    "import pickle\n",
    "\n",
    "import pyart\n",
    "matplotlib.use('agg')"
   ]
  },
  {
   "cell_type": "code",
   "execution_count": 2,
   "metadata": {},
   "outputs": [],
   "source": [
    "def plot_latest_image(odim_ffn):\n",
    "\n",
    "    \"\"\"\n",
    "    Plots the latest ocean pol volume if there's a new file\n",
    "    \"\"\"\n",
    "\n",
    "    #read date from filename\n",
    "    dtstr = re.findall('[0-9]{8}_[0-9]{6}', os.path.basename(odim_ffn))\n",
    "    odim_dt = datetime.strptime(dtstr[0], '%Y%m%d_%H%M%S')\n",
    "    \n",
    "    #find latest opol hdf5 file\n",
    "    radar = pyart.aux_io.read_odim_h5(odim_ffn, file_field_names=True)\n",
    "    min_lat = radar.latitude['data']-1.5\n",
    "    max_lat = radar.latitude['data']+1.5\n",
    "    min_lon = adar.longitude['data']-1.5\n",
    "    max_lon = adar.longitude['data']+1.5\n",
    "    #lat, lon, _ = radar.get_gate_lat_lon_alt(SWEEP_IDX)\n",
    "    \n",
    "    #setup figure\n",
    "    fig = plt.figure(figsize=(12, 12), facecolor='w')\n",
    "    ax = fig.add_subplot(111, projection= ccrs.PlateCarree())\n",
    "    ax.set_extent([min_lon, max_lon, min_lat, max_lat],crs=ccrs.PlateCarree())\n",
    "    \n",
    "    #add city markers\n",
    "    fname = cartopy.io.shapereader.natural_earth(resolution='10m', category='cultural', name='populated_places')\n",
    "    reader = cartopy.io.shapereader.Reader(fname)\n",
    "    city_list = list(reader.records())\n",
    "    for city in city_list:\n",
    "        if (((city.attributes['LATITUDE'] >= min_lat) and (city.attributes['LATITUDE'] <= max_lat)\n",
    "            and ((city.attributes['LONGITUDE'] >= min_lon) and (city.attributes['LONGITUDE'] <= max_lon))):\n",
    "            ax.scatter(city.attributes['LONGITUDE'], city.attributes['LATITUDE'], s=6, color='black',\n",
    "                       transform=ccrs.PlateCarree(), zorder=5)\n",
    "            ax.text(city.attributes['LONGITUDE']+0.01, city.attributes['LATITUDE']+0.01, \n",
    "                    city.attributes['NAME'], fontsize=10,transform=ccrs.PlateCarree())\n",
    "    #plot radar data        \n",
    "    display = pyart.graph.RadarMapDisplay(radar)\n",
    "    title_str = 'RVI Ocean POL Reflectivity ' + odim_dt.strftime('%H:%M %Y%m%d') + ' UTC'\n",
    "    display.plot_ppi_map(REFL_FNAME, SWEEP_IDX, vmin=REFL_VMIN, vmax=REFL_VMAX,\n",
    "                        cmap=pyart.graph.cm_colorblind.HomeyerRainbow, colorbar_flag = False,\n",
    "                        resolution='10m', title_flag=False)\n",
    "    \n",
    "    ax.set_title(label=title_str, fontsize=16)\n",
    "    \n",
    "    #annotations\n",
    "    display.plot_range_rings([50,100,150], ax=None, col='k', ls='-', lw=0.5)\n",
    "    display.plot_point(radar.longitude['data'], radar.latitude['data'])\n",
    "    #Now we add lat lon lines\n",
    "    gl = display.ax.gridlines(draw_labels=True,\n",
    "                              linewidth=1, color='gray', alpha=0.5,\n",
    "                              linestyle='--')\n",
    "    gl.xlabel_style = {'size': 10}\n",
    "    gl.ylabel_style = {'size': 10}\n",
    "    gl.xlabels_top = False\n",
    "    gl.ylabels_right = False\n",
    "    \n",
    "    #here is our pretty colorbar code\n",
    "    cbax = fig.add_axes([0.15, 0.06, 0.725, .025])\n",
    "    cb = plt.colorbar(display.plots[0], cax=cbax, orientation='horizontal')\n",
    "    cb.set_label(label='Reflectivity (dBZ)', fontsize=14)\n",
    "    cb.ax.tick_params(labelsize=10)\n",
    "        \n",
    "    #save to file\n",
    "    img_ffn = IMG_ARCHIVE + odim_dt.strftime('%Y%m%d_%H%M%S') + '.jpeg'\n",
    "    plt.savefig(img_ffn, optimize=True, quality=80)\n",
    "    fig.clf()\n",
    "    plt.close()"
   ]
  },
  {
   "cell_type": "code",
   "execution_count": null,
   "metadata": {},
   "outputs": [
    {
     "name": "stdout",
     "output_type": "stream",
     "text": [
      "/home/meso/temp/71_20101108/71_20101108_000105.pvol.h5\n",
      "/home/meso/temp/71_20101108/71_20101108_000704.pvol.h5\n",
      "/home/meso/temp/71_20101108/71_20101108_001304.pvol.h5\n",
      "/home/meso/temp/71_20101108/71_20101108_001904.pvol.h5\n",
      "/home/meso/temp/71_20101108/71_20101108_002504.pvol.h5\n",
      "/home/meso/temp/71_20101108/71_20101108_003104.pvol.h5\n",
      "/home/meso/temp/71_20101108/71_20101108_003704.pvol.h5\n",
      "/home/meso/temp/71_20101108/71_20101108_004304.pvol.h5\n",
      "/home/meso/temp/71_20101108/71_20101108_004904.pvol.h5\n",
      "/home/meso/temp/71_20101108/71_20101108_005504.pvol.h5\n",
      "/home/meso/temp/71_20101108/71_20101108_020106.pvol.h5\n",
      "/home/meso/temp/71_20101108/71_20101108_020704.pvol.h5\n",
      "/home/meso/temp/71_20101108/71_20101108_021305.pvol.h5\n",
      "/home/meso/temp/71_20101108/71_20101108_021905.pvol.h5\n",
      "/home/meso/temp/71_20101108/71_20101108_022505.pvol.h5\n",
      "/home/meso/temp/71_20101108/71_20101108_023105.pvol.h5\n",
      "/home/meso/temp/71_20101108/71_20101108_023705.pvol.h5\n",
      "/home/meso/temp/71_20101108/71_20101108_024305.pvol.h5\n",
      "/home/meso/temp/71_20101108/71_20101108_024905.pvol.h5\n",
      "/home/meso/temp/71_20101108/71_20101108_025505.pvol.h5\n",
      "/home/meso/temp/71_20101108/71_20101108_030106.pvol.h5\n"
     ]
    }
   ],
   "source": [
    "#config\n",
    "REFL_FNAME = 'DBZH'\n",
    "SWEEP_IDX = 1\n",
    "REFL_VMIN = 10\n",
    "REFL_VMAX = 65\n",
    "ODIM_PATH = '/home/meso/temp/71_20101108/'\n",
    "IMG_ARCHIVE = '/home/meso/temp/71_20101108_images/'\n",
    "\n",
    "odim_ffn_list = sorted(glob(ODIM_PATH + '*.h5'))\n",
    "for odim_ffn in odim_ffn_list:\n",
    "    print(odim_ffn)\n",
    "    plot_latest_image(odim_ffn)\n",
    "    "
   ]
  },
  {
   "cell_type": "code",
   "execution_count": null,
   "metadata": {},
   "outputs": [],
   "source": []
  }
 ],
 "metadata": {
  "kernelspec": {
   "display_name": "Python [conda env:radar-dev] *",
   "language": "python",
   "name": "conda-env-radar-dev-py"
  },
  "language_info": {
   "codemirror_mode": {
    "name": "ipython",
    "version": 3
   },
   "file_extension": ".py",
   "mimetype": "text/x-python",
   "name": "python",
   "nbconvert_exporter": "python",
   "pygments_lexer": "ipython3",
   "version": "3.6.7"
  }
 },
 "nbformat": 4,
 "nbformat_minor": 4
}
