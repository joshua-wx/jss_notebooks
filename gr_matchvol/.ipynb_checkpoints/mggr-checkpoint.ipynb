{
 "cells": [
  {
   "cell_type": "code",
   "execution_count": 5,
   "metadata": {},
   "outputs": [],
   "source": [
    "import numpy as np\n",
    "from math import degrees, radians, sqrt"
   ]
  },
  {
   "cell_type": "code",
   "execution_count": null,
   "metadata": {},
   "outputs": [],
   "source": [
    "#paper\n",
    "#https://journals.ametsoc.org/doi/pdf/10.1175/JTECH-D-17-0128.1\n",
    "#section 3d"
   ]
  },
  {
   "cell_type": "code",
   "execution_count": 2,
   "metadata": {},
   "outputs": [],
   "source": [
    "#config\n",
    "\n",
    "#radar 1 specific\n",
    "r1_id = 50\n",
    "r1_name = 'Marburg'\n",
    "r1_lat = -27.6080 #deg\n",
    "r1_lon = 152.5390 #deg\n",
    "r1_alt = 372.0 #m\n",
    "r1_bw = 1.9\n",
    "r1_el_list = [0.5, 1.2, 1.9, 2.7, 3.5, 4.7, 6.0, 7.5, 9.2, 11.0, 13.0, 16.0, 20.0, 25.0, 32.0]\n",
    "\n",
    "#radar 2 specific\n",
    "r2_id = 66\n",
    "r2_name = 'MtStapylton'\n",
    "r2_lat = -27.7178 #deg\n",
    "r2_lon = 153.2400 #deg\n",
    "r2_alt = 174.0 #m\n",
    "r2_bw = 1.0\n",
    "r2_el_list = [0.5, 0.9, 1.3, 1.8, 2.4, 3.1, 4.2, 5.6, 7.4, 10.0, 13.3, 17.9, 23.9, 32.0]\n",
    "\n",
    "#general\n",
    "range_max = 115000 #maximum range (m)\n",
    "alt_min = 2000 # minimum height (m)\n",
    "alt_max = 12000 # maximum height (m)\n",
    "d_bin_max = 500 # maximum distance between bins (m)\n",
    "vf_max = 0.1 # maximum fractional difference in bin volumes\n",
    "d_gate = 250 # range gate spacing (m)\n",
    "n_az = 360 # number of azimuths\n",
    "d_az = 1 # azimuth spacing (deg)\n",
    "\n",
    "\n"
   ]
  },
  {
   "cell_type": "code",
   "execution_count": 6,
   "metadata": {},
   "outputs": [],
   "source": [
    "# preprocessing\n",
    "\n",
    "# Set the range values\n",
    "r1_ngates = np.round(range_max / d_gate)\n",
    "r2_ngates = np.round(range_max / d_gate)\n",
    "r1_rng_array = d_gate/2.+ np.arange(r1_ngates) * d_gate\n",
    "r2_rng_array = d_gate/2.+ np.arange(r2_ngates) * d_gate\n",
    "\n",
    "# Set the azimuth angle values\n",
    "az_array = np.arange(n_az) * d_az\n",
    "\n",
    "# Note the elevation angles and number of tilts for each radar\n",
    "r1_nsweeps = len(r1_el_list)\n",
    "r2_nsweeps = len(r2_el_list)\n",
    "\n",
    "# Adjust rmax2 to account for maximum volume of radar 1\n",
    "# (at elevation angle of 0deg)\n",
    "r1_vmax = (range_max**2) * d_gate * radians(r1_bw + d_az) * radians(r1_bw)\n",
    "r2_vmax = range_max * (1 + vf_max)\n",
    "rmax2 = np.min([range_max , sqrt(r2_vmax/(d_gate * radians(r1_bw + d_az) * radians(r1_bw)))])"
   ]
  },
  {
   "cell_type": "code",
   "execution_count": null,
   "metadata": {},
   "outputs": [],
   "source": [
    "# domain coordinates\n",
    "\n"
   ]
  }
 ],
 "metadata": {
  "kernelspec": {
   "display_name": "Python [conda env:radar-dev] *",
   "language": "python",
   "name": "conda-env-radar-dev-py"
  },
  "language_info": {
   "codemirror_mode": {
    "name": "ipython",
    "version": 3
   },
   "file_extension": ".py",
   "mimetype": "text/x-python",
   "name": "python",
   "nbconvert_exporter": "python",
   "pygments_lexer": "ipython3",
   "version": "3.6.7"
  }
 },
 "nbformat": 4,
 "nbformat_minor": 4
}
